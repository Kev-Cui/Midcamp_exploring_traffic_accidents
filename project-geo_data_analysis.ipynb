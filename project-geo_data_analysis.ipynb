{
 "cells": [
  {
   "cell_type": "code",
   "execution_count": 1,
   "id": "cee6ea9f",
   "metadata": {},
   "outputs": [
    {
     "name": "stdout",
     "output_type": "stream",
     "text": [
      "Collecting package metadata (current_repodata.json): ...working... done\n",
      "Solving environment: ...working... done\n",
      "\n",
      "## Package Plan ##\n",
      "\n",
      "  environment location: C:\\ProgramData\\anaconda3\n",
      "\n",
      "  added / updated specs:\n",
      "    - geopandas\n",
      "\n",
      "\n",
      "The following NEW packages will be INSTALLED:\n",
      "\n",
      "  branca             pkgs/main/win-64::branca-0.6.0-py311haa95532_0 \n",
      "  cairo              pkgs/main/win-64::cairo-1.16.0-haedb8bc_5 \n",
      "  click-plugins      pkgs/main/noarch::click-plugins-1.1.1-pyhd3eb1b0_0 \n",
      "  cligj              pkgs/main/noarch::cligj-0.7.2-pyhd3eb1b0_0 \n",
      "  expat              pkgs/main/win-64::expat-2.5.0-hd77b12b_0 \n",
      "  fiona              pkgs/main/win-64::fiona-1.9.5-py311hf62ec03_0 \n",
      "  folium             pkgs/main/win-64::folium-0.14.0-py311haa95532_0 \n",
      "  fontconfig         pkgs/main/win-64::fontconfig-2.14.1-h9c4af85_2 \n",
      "  freexl             pkgs/main/win-64::freexl-2.0.0-hd7a5696_0 \n",
      "  gdal               pkgs/main/win-64::gdal-3.6.2-py311h4e7b5b2_4 \n",
      "  geopandas          pkgs/main/win-64::geopandas-0.14.2-py311haa95532_0 \n",
      "  geopandas-base     pkgs/main/win-64::geopandas-base-0.14.2-py311haa95532_0 \n",
      "  geos               pkgs/main/win-64::geos-3.8.0-h33f27b4_0 \n",
      "  geotiff            pkgs/main/win-64::geotiff-1.7.0-h4545760_3 \n",
      "  hdf4               pkgs/main/win-64::hdf4-4.2.13-h712560f_2 \n",
      "  kealib             pkgs/main/win-64::kealib-1.5.0-hde4a422_1 \n",
      "  libgdal            pkgs/main/win-64::libgdal-3.6.2-h9a21643_4 \n",
      "  libkml             pkgs/main/win-64::libkml-1.3.0-h63940dd_7 \n",
      "  libnetcdf          pkgs/main/win-64::libnetcdf-4.8.1-h6685c40_4 \n",
      "  libspatialite      pkgs/main/win-64::libspatialite-5.1.0-hbdd3232_0 \n",
      "  libzip             pkgs/main/win-64::libzip-1.8.0-h289538f_1 \n",
      "  mapclassify        pkgs/main/win-64::mapclassify-2.5.0-py311haa95532_0 \n",
      "  minizip            pkgs/main/win-64::minizip-4.0.3-hb68bac4_0 \n",
      "  pixman             pkgs/main/win-64::pixman-0.40.0-h2bbff1b_1 \n",
      "  poppler            pkgs/main/win-64::poppler-22.12.0-h268424c_0 \n",
      "  poppler-data       pkgs/main/win-64::poppler-data-0.4.11-haa95532_1 \n",
      "  proj               pkgs/main/win-64::proj-9.3.1-ha107b6e_0 \n",
      "  pyproj             pkgs/main/win-64::pyproj-3.6.1-py311ha997c60_0 \n",
      "  qhull              pkgs/main/win-64::qhull-2020.2-h59b6b97_2 \n",
      "  shapely            pkgs/main/win-64::shapely-2.0.1-py311h672afca_0 \n",
      "  tiledb             pkgs/main/win-64::tiledb-2.3.3-hd8964de_3 \n",
      "  uriparser          pkgs/main/win-64::uriparser-0.9.7-h2bbff1b_0 \n",
      "  xerces-c           pkgs/main/win-64::xerces-c-3.2.4-hd77b12b_1 \n",
      "\n",
      "The following packages will be UPDATED:\n",
      "\n",
      "  certifi                        2023.11.17-py311haa95532_0 --> 2024.2.2-py311haa95532_0 \n",
      "  openssl                                 3.0.12-h2bbff1b_0 --> 3.0.13-h2bbff1b_0 \n",
      "  xz                                       5.4.2-h8cc25b3_0 --> 5.4.5-h8cc25b3_0 \n",
      "\n",
      "\n",
      "\n",
      "Downloading and Extracting Packages\n",
      "\n",
      "\n",
      "Preparing transaction: ...working... done\n",
      "Verifying transaction: ...working... failed\n",
      "\n",
      "Note: you may need to restart the kernel to use updated packages.\n"
     ]
    },
    {
     "name": "stderr",
     "output_type": "stream",
     "text": [
      "\n",
      "\n",
      "==> WARNING: A newer version of conda exists. <==\n",
      "  current version: 23.7.4\n",
      "  latest version: 24.1.1\n",
      "\n",
      "Please update conda by running\n",
      "\n",
      "    $ conda update -n base -c defaults conda\n",
      "\n",
      "Or to minimize the number of packages updated during conda update use\n",
      "\n",
      "     conda install conda=24.1.1\n",
      "\n",
      "\n",
      "\n",
      "EnvironmentNotWritableError: The current user does not have write permissions to the target environment.\n",
      "  environment location: C:\\ProgramData\\anaconda3\n",
      "\n",
      "\n"
     ]
    }
   ],
   "source": [
    "conda install geopandas"
   ]
  },
  {
   "cell_type": "code",
   "execution_count": 1,
   "id": "889752c9",
   "metadata": {},
   "outputs": [],
   "source": [
    "import pandas as pd\n",
    "import geopandas as gpd\n",
    "from shapely.geometry import Polygon"
   ]
  },
  {
   "cell_type": "code",
   "execution_count": null,
   "id": "5e0174a8",
   "metadata": {},
   "outputs": [],
   "source": [
    "# Read the CSV file\n",
    "data = pd.read_csv('AADF_cleaned.csv')\n",
    "\n",
    "# Define the coordinate reference system (CRS)\n",
    "crs = 'EPSG:4326'\n",
    "\n",
    "# Create polygon geometries\n",
    "geometry = [Polygon(eval(x)) for x in data[['lon','lat']]]\n",
    "\n",
    "# Create a GeoDataFrame\n",
    "geo_data = gpd.GeoDataFrame(data, crs=crs, geometry=geometry)"
   ]
  },
  {
   "cell_type": "code",
   "execution_count": null,
   "id": "0fc1c30c",
   "metadata": {},
   "outputs": [],
   "source": [
    "#I giveup, will comeback once I leaned how to work with Geodata"
   ]
  }
 ],
 "metadata": {
  "kernelspec": {
   "display_name": "Python 3 (ipykernel)",
   "language": "python",
   "name": "python3"
  },
  "language_info": {
   "codemirror_mode": {
    "name": "ipython",
    "version": 3
   },
   "file_extension": ".py",
   "mimetype": "text/x-python",
   "name": "python",
   "nbconvert_exporter": "python",
   "pygments_lexer": "ipython3",
   "version": "3.11.5"
  }
 },
 "nbformat": 4,
 "nbformat_minor": 5
}
